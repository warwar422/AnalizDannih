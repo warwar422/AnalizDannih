{
 "cells": [
  {
   "cell_type": "markdown",
   "id": "bee99d9a",
   "metadata": {},
   "source": [
    "<h1 style=\"text-align:  center;\">Введение в анализ данных</h1>"
   ]
  },
  {
   "cell_type": "markdown",
   "id": "c9ec1398",
   "metadata": {},
   "source": [
    "<h1 style=\"text-align:center;\">LAB1</h1>"
   ]
  },
  {
   "cell_type": "markdown",
   "id": "f9fa147d",
   "metadata": {},
   "source": [
    "Цель работы: осуществить предварительную обработку данных csv-файла, выявить и устранить проблемы в этих данных. "
   ]
  },
  {
   "cell_type": "markdown",
   "id": "40218e9b",
   "metadata": {},
   "source": [
    "Содержит информацию о сердечных болезнях.\n",
    "1.\tвозраст\n",
    "2.\tпол\n",
    "3.\tтип боли в груди (4 значения [TA: типичная стенокардия, ATA: атипичная стенокардия, NAP: неангинальная боль, ASY: бессимптомная])\n",
    "4.\tартериальное давление в покое\n",
    "5.\tхолестерин сыворотки в мг/дл\n",
    "6.\tуровень сахара в крови натощак > 120 мг/дл\n",
    "7.\tЭКГ в покое: результаты электрокардиограммы в покое норма: нормальная, ST: аномалия ST-T LVN: гипертрофия\n",
    "8.\tMaxHR: максимальная достигнутая частота сердечных сокращений [Числовое значение от 60 до 202]\n",
    "9.\tстенокардия, вызванная физической нагрузкой (да, нет)\n",
    "10.\t oldpeak = депрессия ST, вызванная физической нагрузкой, по сравнению с состоянием покоя\n",
    "11.\tнаклон пикового сегмента ST при нагрузке (Вверх: восходящий, Плоский: плоский, Вниз: нисходящий)\n",
    "12.\t HeartDisease: выходной класс [1: болезнь сердца, 0: нормальный]\n"
   ]
  },
  {
   "cell_type": "markdown",
   "id": "2e533b4a",
   "metadata": {},
   "source": [
    "Загружаю датасет с помощью библиотеки Pandas и вывожу первые 20 строк."
   ]
  },
  {
   "cell_type": "code",
   "execution_count": 10,
   "id": "83dca771",
   "metadata": {},
   "outputs": [
    {
     "name": "stdout",
     "output_type": "stream",
     "text": [
      "    Age Sex ChestPainType  RestingBP Cholesterol  FastingBS RestingECG  MaxHR ExerciseAngina  Oldpeak ST_Slope  HeartDisease\n",
      "0    40   M           ATA      140.0         289          0     Normal  172.0              N      0.0       Up             0\n",
      "1    49   F           NAP      160.0         180          0     Normal  156.0              N      1.0     Flat             1\n",
      "2    37   M           ATA      130.0         283          0         ST   98.0              N      0.0       Up             0\n",
      "3    48   F           ASY      138.0         214          0     Normal  108.0              Y      1.5     Flat             1\n",
      "4    54   M           NAP      150.0         195          0     Normal  122.0              N      0.0       Up             0\n",
      "5    39   M           NAP      120.0         339          0     Normal  170.0              N      0.0       Up             0\n",
      "6    45   F           ATA      130.0         237          0     Normal  170.0              N      0.0       Up             0\n",
      "7    54   M           ATA      110.0         208          0     Normal  142.0              N      0.0       Up             0\n",
      "8    37   M           ASY      140.0         207          0     Normal  130.0              Y      1.5     Flat             1\n",
      "9    48   F           ATA      120.0         284          0     Normal  120.0              N      0.0       Up             0\n",
      "10   37   F           NAP      130.0         211          0     Normal  142.0              N      0.0       Up             0\n",
      "11   58   M           ATA      136.0         164          0         ST   99.0              Y      2.0     Flat             1\n",
      "12   39   M           ATA      120.0         204          0     Normal  145.0              N      0.0       Up             0\n",
      "13   49   M           ASY      140.0         234          0     Normal  140.0              Y      1.0     Flat             1\n",
      "14   42   F           NAP      115.0         211          0         ST  137.0              N      0.0       Up             0\n",
      "15   54   F           ATA      120.0         273          0     Normal  150.0              N      1.5     Flat             0\n",
      "16   38   M           ASY      110.0         196          0     Normal  166.0              N      0.0     Flat             1\n",
      "17   43   F           ATA        NaN         NaN          0     Normal  165.0              N      0.0       Up             0\n",
      "18   60   M           ASY      100.0         248          0     Normal  125.0              N      1.0     Flat             1\n",
      "19   36   M           ATA      120.0         267          0     Normal  160.0              N      3.0     Flat             1\n"
     ]
    }
   ],
   "source": [
    "import pandas as pd\n",
    "\n",
    "heart_df = pd.read_csv('3heart.csv', sep=',')\n",
    "pd.options.display.expand_frame_repr = False\n",
    "print(heart_df.head(20))"
   ]
  },
  {
   "cell_type": "markdown",
   "id": "882952af",
   "metadata": {},
   "source": [
    "Цель датасета увидеть зависимость наличия у людей болезни сердца от разных жизненных показательней: Возраста; Пола; Типа боли в груди; Артериального давления в покое; Холестерина сыворотки; Уровень сахара в крови натощак; ЭКГ в покое; Максимального сердечного ритма; Стенокардии; Старого пика; Наклона пикового сегмента ST при нагрузке.\n",
    "\n",
    "С помощью методов .info и. columns попытаюсь оценить данные."
   ]
  },
  {
   "cell_type": "code",
   "execution_count": 6,
   "id": "f9d3020e",
   "metadata": {},
   "outputs": [
    {
     "name": "stdout",
     "output_type": "stream",
     "text": [
      "<class 'pandas.core.frame.DataFrame'>\n",
      "RangeIndex: 925 entries, 0 to 924\n",
      "Data columns (total 12 columns):\n",
      " #   Column          Non-Null Count  Dtype  \n",
      "---  ------          --------------  -----  \n",
      " 0   Age             925 non-null    int64  \n",
      " 1   Sex             925 non-null    object \n",
      " 2   ChestPainType   925 non-null    object \n",
      " 3   RestingBP       923 non-null    float64\n",
      " 4   Cholesterol     924 non-null    object \n",
      " 5   FastingBS       925 non-null    int64  \n",
      " 6   RestingECG      924 non-null    object \n",
      " 7   MaxHR           924 non-null    float64\n",
      " 8   ExerciseAngina  925 non-null    object \n",
      " 9   Oldpeak         925 non-null    float64\n",
      " 10  ST_Slope        925 non-null    object \n",
      " 11  HeartDisease    925 non-null    int64  \n",
      "dtypes: float64(3), int64(3), object(6)\n",
      "memory usage: 86.8+ KB\n",
      "None \n",
      "\n"
     ]
    }
   ],
   "source": [
    "print(heart_df.info(), '\\n')\n"
   ]
  },
  {
   "cell_type": "code",
   "execution_count": 7,
   "id": "89f3bceb",
   "metadata": {},
   "outputs": [
    {
     "name": "stdout",
     "output_type": "stream",
     "text": [
      "Index(['Age', 'Sex', 'ChestPainType', 'RestingBP', 'Cholesterol', 'FastingBS',\n",
      "       'RestingECG', 'MaxHR', 'ExerciseAngina', 'Oldpeak', 'ST_Slope',\n",
      "       'HeartDisease'],\n",
      "      dtype='object') \n",
      "\n"
     ]
    }
   ],
   "source": [
    "print(heart_df.columns, '\\n')"
   ]
  },
  {
   "cell_type": "markdown",
   "id": "76040c69",
   "metadata": {},
   "source": [
    "Как видно из первых строк датафрейм состоит из 925 строк и 12 столбцов. Названия столбцов с точки зрения логики и грамматики соответствуют правильным. Так же из данных столбца Non-Null Count можно сделать вывод что 3,4,6,7 столбце датафрейма присутствуют некорректные значения. Типы данных для столбцов не требуют измениения, кроме Cholesterol, требуется заменить object на int64\n",
    "\n",
    "Начал процесс формализации данных с удаления явных дубликатов посредством метода .drop_duplicates() и восстановил индексирование методом .reset_index(). Результат работы метода на рисунке 3."
   ]
  },
  {
   "cell_type": "code",
   "execution_count": 11,
   "id": "bc69e115",
   "metadata": {},
   "outputs": [
    {
     "name": "stdout",
     "output_type": "stream",
     "text": [
      "Кол-во дубликатов:  3 \n",
      "\n",
      "Индексы строк дубликатов:\n",
      "918\n",
      "919\n",
      "920\n",
      "Удаление дубликатов заершено \n",
      "\n",
      "Кол-во дубликатов:  0 \n",
      "\n"
     ]
    }
   ],
   "source": [
    "print('Кол-во дубликатов: ', heart_df.duplicated().sum(), '\\n')\n",
    "print('Индексы строк дубликатов:')\n",
    "for index, value in enumerate(heart_df.duplicated()):\n",
    "    if value:\n",
    "        print(index)\n",
    "heart_df = heart_df.drop_duplicates()\n",
    "print('Удаление дубликатов заершено', '\\n')\n",
    "print('Кол-во дубликатов: ', heart_df.duplicated().sum(), '\\n')"
   ]
  },
  {
   "cell_type": "markdown",
   "id": "32196318",
   "metadata": {},
   "source": [
    "После избавился от строк содержащих Na с помощью метода .dropna() и восстановил индексирование методом .reset_index()."
   ]
  },
  {
   "cell_type": "code",
   "execution_count": 12,
   "id": "6995c43b",
   "metadata": {},
   "outputs": [
    {
     "name": "stdout",
     "output_type": "stream",
     "text": [
      "Столбцы содержащие Na \n",
      "\n",
      "Age               0\n",
      "Sex               0\n",
      "ChestPainType     0\n",
      "RestingBP         2\n",
      "Cholesterol       1\n",
      "FastingBS         0\n",
      "RestingECG        1\n",
      "MaxHR             1\n",
      "ExerciseAngina    0\n",
      "Oldpeak           0\n",
      "ST_Slope          0\n",
      "HeartDisease      0\n",
      "dtype: int64 \n",
      "\n",
      "Удаление строк с Na завершено \n",
      "\n",
      "Age               0\n",
      "Sex               0\n",
      "ChestPainType     0\n",
      "RestingBP         0\n",
      "Cholesterol       0\n",
      "FastingBS         0\n",
      "RestingECG        0\n",
      "MaxHR             0\n",
      "ExerciseAngina    0\n",
      "Oldpeak           0\n",
      "ST_Slope          0\n",
      "HeartDisease      0\n",
      "dtype: int64 \n",
      "\n"
     ]
    }
   ],
   "source": [
    "print(\"Столбцы содержащие Na\", '\\n')\n",
    "print(heart_df.isna().sum(), '\\n')\n",
    "heart_df = heart_df.dropna()\n",
    "print(\"Удаление строк с Na завершено\", '\\n')\n",
    "print(heart_df.isna().sum(), '\\n')\n",
    "\n",
    "heart_df.reset_index(drop=True, inplace=True)"
   ]
  },
  {
   "cell_type": "markdown",
   "id": "435761da",
   "metadata": {},
   "source": [
    "Поиск неявных дубликатов провел методом .unique() примененным к каждому столбцу. Ошибки были найдены в столбцах: Sex, значение может быть только M или F; RestingBP, не может быть 0 значения; Cholesterol, возможно только число; ST_Slope, значение может быть только Up, Down или Flat."
   ]
  },
  {
   "cell_type": "markdown",
   "id": "0af2a156",
   "metadata": {},
   "source": [
    "Исправлю некорректно написанные значения методом .replace()."
   ]
  },
  {
   "cell_type": "code",
   "execution_count": 13,
   "id": "f0efc861",
   "metadata": {},
   "outputs": [
    {
     "name": "stdout",
     "output_type": "stream",
     "text": [
      "Уникальные значения поля Age :  [40 49 37 48 54 39 45 58 42 38 60 36 43 44 53 52 51 56 41 32 65 35 59 50\n",
      " 47 31 46 57 55 63 66 34 33 61 29 62 28 30 74 68 72 64 69 67 73 70 77 75\n",
      " 76 71]\n",
      "Уникальные значения поля Sex :  ['M' 'F' 'Ma']\n",
      "Уникальные значения поля ChestPainType :  ['ATA' 'NAP' 'ASY' 'TA']\n",
      "Уникальные значения поля RestingBP :  [140. 160. 130. 138. 150. 120. 110. 136. 115. 100. 124. 113. 125. 145.\n",
      " 112. 132. 118. 170. 142. 190. 135. 180. 108. 155. 128. 106.  92. 200.\n",
      " 122.  98. 105. 133.  95.  80. 137. 185. 165. 126. 152. 116.   0. 144.\n",
      " 154. 134. 104. 139. 131. 141. 178. 146. 158. 123. 102.  96. 143. 172.\n",
      " 156. 114. 127. 101. 174.  94. 148. 117. 192. 129. 164.]\n",
      "Уникальные значения поля Cholesterol :  ['289' '180' '283' '214' '195' '339' '237' '208' '207' '284' '211' '164'\n",
      " '204' '234' '273' '196' '248' '267' '223' '184' '201' '288' '209' '260'\n",
      " '468' '188' '518' '167' '224' '172' '186' '254' '306' '250' '177' '227'\n",
      " '230' '294' '264' '259' '175' '318' '216' '340' '233' '205' '245' '194'\n",
      " '270' '213' '365' '342' '253' '277' '202' '297' '225' '246' '412' '265'\n",
      " '215' '182' '218' '268' '163' '529' '100' '206' '238' '139' '263' '291'\n",
      " '229' '307' '210' '329' '147' '85' '269' '275' '179' '392' '466' '129'\n",
      " '241' '255' '276' '282' '338' '160' '156' '272' '240' '393' '161' '228'\n",
      " '292' '388' '166' '247' '331' '341' '243' '279' '198' '249' '168' '603'\n",
      " '159' '190' '185' '290' '212' '231' '222' '235' '320' '187' '266' '287'\n",
      " '404' '312' '251' '328' '285' '280' '192' '193' '308' '219' '257' '132'\n",
      " '226' '217' '303' '298' '256' '117' '295' '173' '315' '281' '309' '200'\n",
      " '336' '355' '326' '171' '491' '271' '274' '394' '221' '126' '305' '220'\n",
      " '242' '347' '344' '358' '169' '181' '0' '236' '203' '153' '316' '311'\n",
      " '252' '458' '384' '258' '349' '142' '197' '113' '261' '310' '232' '110'\n",
      " '123' '170' '369' '152' '244' '165' '337' '300' '333' '385' '322' '564'\n",
      " '239' '293' '407' '149' '199' '417' '178' '319' '354' '330' '302' '313'\n",
      " '141' '327' '304' '286' '360' '262' '325' '299' '409' '174' '183' '321'\n",
      " '353' '335' '278' '157' '176' '131' 'a241']\n",
      "Уникальные значения поля FastingBS :  [0 1]\n",
      "Уникальные значения поля RestingECG :  ['Normal' 'ST' 'LVH']\n",
      "Уникальные значения поля MaxHR :  [172. 156.  98. 108. 122. 170. 142. 130. 120.  99. 145. 140. 137. 150.\n",
      " 166. 125. 160. 164. 178. 112. 118. 127. 114. 154. 155.  87. 148. 100.\n",
      " 168. 184. 121. 153. 134.  96. 174. 175. 144.  82. 135. 115. 128. 116.\n",
      " 138. 165.  94. 110.  92. 180. 152. 124. 106. 185. 139. 190. 146. 158.\n",
      " 132. 176. 119. 188. 162. 105.  90. 136. 167. 129. 102. 143. 103.  91.\n",
      " 126.  93. 131. 149. 123. 182. 141.  77. 109. 133. 179. 113. 104.  95.\n",
      "  72.  97. 117.  86.  63. 157.  83.  60.  70. 163.  67.  78.  84. 111.\n",
      "  80. 107. 161.  69.  88.  73. 159. 151. 181. 186. 177. 173. 169. 171.\n",
      " 147.  71. 192. 195. 194. 187. 202.]\n",
      "Уникальные значения поля ExerciseAngina :  ['N' 'Y']\n",
      "Уникальные значения поля Oldpeak :  [ 0.   1.   1.5  2.   3.   4.   0.5  2.5  5.   0.8  0.7  1.4  2.1  0.4\n",
      "  0.2  1.7  2.2  0.1  1.6  1.3  0.3  1.8  2.6 -0.9  2.8 -2.6 -1.5 -0.1\n",
      "  0.9  1.1  2.4 -1.  -1.1 -0.7 -0.8  3.7  1.2 -0.5 -2.   1.9  3.5  0.6\n",
      "  3.1  2.3  3.4  3.6  4.2  3.2  5.6  3.8  2.9  6.2  4.4]\n",
      "Уникальные значения поля ST_Slope :  ['Up' 'Flat' 'Down' 'UP']\n",
      "Уникальные значения поля HeartDisease :  [0 1]\n",
      "\n",
      " Редактироване ошибок завершено \n",
      "\n"
     ]
    }
   ],
   "source": [
    "for column in heart_df.columns:\n",
    "    print('Уникальные значения поля', column, ': ', heart_df[column].unique())\n",
    "\n",
    "heart_df[\"Sex\"] = heart_df[\"Sex\"].replace('Ma', 'M')\n",
    "heart_df[\"RestingBP\"] = heart_df[\"RestingBP\"].replace('0', '100')\n",
    "heart_df[\"Cholesterol\"] = heart_df[\"Cholesterol\"].replace('0', '200')\n",
    "heart_df[\"Cholesterol\"] = heart_df[\"Cholesterol\"].replace('a241', '241')\n",
    "heart_df[\"ST_Slope\"] = heart_df[\"ST_Slope\"].replace('UP', 'Up')\n",
    "heart_df['Cholesterol'] = heart_df['Cholesterol'].astype('int64')\n",
    "\n",
    "print('\\n', \"Редактироване ошибок завершено\", '\\n')"
   ]
  },
  {
   "cell_type": "markdown",
   "id": "bc1d9c43",
   "metadata": {},
   "source": [
    "Составлю сводную таблицу методом pd.pivot_table() зависимости наклона пикового сегмента от среднего возраста и разделю значения по полу.\n",
    "\n",
    "Напишу несколько группировок при помощи метода .groupby. Первая это группировка по полу и среднему артериальному давлению, вторая по типу боли и среднему холестерину, и артериальному давлению."
   ]
  },
  {
   "cell_type": "code",
   "execution_count": 14,
   "id": "3e6e34dc",
   "metadata": {},
   "outputs": [
    {
     "name": "stdout",
     "output_type": "stream",
     "text": [
      "ST_Slope       Down       Flat         Up\n",
      "Sex                                      \n",
      "F         59.714286  54.618421  50.690909\n",
      "M         58.142857  55.387013  50.802817 \n",
      "\n",
      "    RestingBP\n",
      "         mean\n",
      "Sex          \n",
      "F      132.32\n",
      "M      132.45 \n",
      "\n",
      "              Cholesterol RestingBP\n",
      "                     mean      mean\n",
      "ChestPainType                      \n",
      "ASY                237.46    133.24\n",
      "ATA                241.25    130.68\n",
      "NAP                231.01    130.97\n",
      "TA                 228.80    136.41 \n",
      "\n",
      "\n",
      "\n"
     ]
    }
   ],
   "source": [
    "print(pd.pivot_table(heart_df, index='Sex', columns='ST_Slope', values='Age', aggfunc='mean'), '\\n')\n",
    "\n",
    "agg_func_mean = {'RestingBP': ['mean']}\n",
    "print(heart_df.groupby(['Sex']).agg(agg_func_mean).round(2), '\\n')\n",
    "\n",
    "agg_func_mean = {'Cholesterol': ['mean'], 'RestingBP': ['mean']}\n",
    "print(heart_df.groupby(['ChestPainType']).agg(agg_func_mean).round(2), '\\n')\n",
    "print('\\n')"
   ]
  },
  {
   "cell_type": "markdown",
   "id": "e814a8a1",
   "metadata": {},
   "source": [
    "<h3>Вывод</h3>\n"
   ]
  },
  {
   "cell_type": "markdown",
   "id": "710f825d",
   "metadata": {},
   "source": [
    "<pharagraph>\n",
    "    Расширил познания в библиотеке Pandas. Научился редактировать данные, находить и удалять дубликаты, искать уникальные значения, с помощью которых возможна последующая формализация данных – осуществлять предварительную обработку данных.\n",
    "Узнал о сводных таблицах библиотеки Pandas и методе группировки данных groupby. \n",
    "</pharagraph>"
   ]
  },
  {
   "cell_type": "code",
   "execution_count": null,
   "id": "c1771bcd",
   "metadata": {},
   "outputs": [],
   "source": []
  }
 ],
 "metadata": {
  "kernelspec": {
   "display_name": "Python 3 (ipykernel)",
   "language": "python",
   "name": "python3"
  },
  "language_info": {
   "codemirror_mode": {
    "name": "ipython",
    "version": 3
   },
   "file_extension": ".py",
   "mimetype": "text/x-python",
   "name": "python",
   "nbconvert_exporter": "python",
   "pygments_lexer": "ipython3",
   "version": "3.9.13"
  }
 },
 "nbformat": 4,
 "nbformat_minor": 5
}
